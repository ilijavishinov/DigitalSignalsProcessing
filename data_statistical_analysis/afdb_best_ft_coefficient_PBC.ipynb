{
 "cells": [
  {
   "cell_type": "code",
   "execution_count": 1,
   "metadata": {
    "collapsed": true
   },
   "outputs": [],
   "source": [
    "import pandas as pd\n",
    "from scipy import stats\n",
    "import matplotlib.pyplot as plt\n",
    "import seaborn as sns\n",
    "# plt.style.use(['dark_background'])\n",
    "# plt.rcParams[\"figure.figsize\"] = (10,7)\n",
    "from typing import List, Union\n",
    "import os\n",
    "\n",
    "data_dir = 'data\\physionet_dbs\\\\afdb\\clean_segments_training_dft_125hz'\n",
    "tables_dir = 'Tables'\n",
    "if not os.path.exists(tables_dir):\n",
    "    os.makedirs(tables_dir)\n"
   ]
  },
  {
   "cell_type": "code",
   "execution_count": 3,
   "outputs": [],
   "source": [
    "def sns_palette_map(input_string: str):\n",
    "    if input_string.lower() == 'g': return 'Greens'\n",
    "    if input_string.lower() == 'r': return 'Reds'\n",
    "\n",
    "def distribution_histogram_box_plots(df: pd.DataFrame,\n",
    "                                             ft_feature_name: str,\n",
    "                                             class_feature_name: str,\n",
    "                                             classes: List[Union[str, int]],\n",
    "                                             classes_colors: List[str],\n",
    "                                             save_path: str = None\n",
    "                                             ):\n",
    "\n",
    "    # sort dataframe to match classes labels passed on as arguments to assure correct color of class elements\n",
    "    sorted_df = pd.DataFrame()\n",
    "    for class_i in classes:\n",
    "        sorted_df =  sorted_df.append(df[df[class_feature_name].isin([class_i])], ignore_index = True)\n",
    "    df = sorted_df\n",
    "\n",
    "    fig1, ax = plt.subplots(constrained_layout=False)\n",
    "    gs = fig1.add_gridspec(2, 1, height_ratios=[5,1])\n",
    "\n",
    "    ax1 = fig1.add_subplot(gs[0, 0])\n",
    "\n",
    "    for class_iter in classes:\n",
    "        ax1 = sns.distplot(\n",
    "            df[df[class_feature_name] == class_iter][ft_feature_name],\n",
    "            color = [\n",
    "                sns.color_palette(palette_colors)[3]\n",
    "                for palette_colors in map(sns_palette_map, classes_colors)][classes.index(class_iter)\n",
    "            ],\n",
    "            rug = False,\n",
    "            kde_kws = {'alpha': .7},\n",
    "            ax = ax1\n",
    "        )\n",
    "\n",
    "    ax2 = fig1.add_subplot(gs[1, 0])\n",
    "    sns.boxplot(\n",
    "        data=df,\n",
    "        x=ft_feature_name,\n",
    "        y=class_feature_name,\n",
    "        notch=True,\n",
    "        ax = ax2,\n",
    "        palette = [\n",
    "            sns.color_palette(palette_colors)[3]\n",
    "            for palette_colors in map(sns_palette_map, classes_colors)\n",
    "        ]\n",
    "    )\n",
    "\n",
    "    sns.despine()\n",
    "    ax.set_axis_off()\n",
    "    plt.tight_layout()\n",
    "    plt.savefig(save_path)\n",
    "    plt.show()\n",
    "    plt.close()\n"
   ],
   "metadata": {
    "collapsed": false,
    "pycharm": {
     "name": "#%%\n"
    }
   }
  },
  {
   "cell_type": "code",
   "execution_count": 2,
   "outputs": [
    {
     "name": "stdout",
     "output_type": "stream",
     "text": [
      "ft_segments_3s.csv\n",
      "    ft_coefficient   pbc_r  p_val\n",
      "51              51  0.3798    0.0\n",
      "50              50  0.3578    0.0\n",
      "49              49  0.3361    0.0\n",
      "48              48  0.3170    0.0\n",
      "25              25  0.3054    0.0\n",
      "ft_segments_4s.csv\n",
      "    ft_coefficient   pbc_r  p_val\n",
      "67              67  0.3778    0.0\n",
      "66              66  0.3613    0.0\n",
      "65              65  0.3419    0.0\n",
      "64              64  0.3254    0.0\n",
      "46              46  0.3197    0.0\n",
      "ft_segments_5s.csv\n",
      "    ft_coefficient   pbc_r  p_val\n",
      "83              83  0.3798    0.0\n",
      "82              82  0.3615    0.0\n",
      "81              81  0.3439    0.0\n",
      "58              58  0.3316    0.0\n",
      "59              59  0.3312    0.0\n",
      "ft_segments_6s.csv\n",
      "    ft_coefficient   pbc_r  p_val\n",
      "99              99  0.3773    0.0\n",
      "98              98  0.3615    0.0\n",
      "97              97  0.3485    0.0\n",
      "69              69  0.3398    0.0\n",
      "70              70  0.3389    0.0\n",
      "ft_segments_7s.csv\n",
      "     ft_coefficient   pbc_r  p_val\n",
      "119             119  0.4011    0.0\n",
      "118             118  0.3999    0.0\n",
      "117             117  0.3969    0.0\n",
      "116             116  0.3895    0.0\n",
      "115             115  0.3762    0.0\n",
      "ft_segments_8s.csv\n",
      "     ft_coefficient   pbc_r  p_val\n",
      "135             135  0.4091    0.0\n",
      "134             134  0.4049    0.0\n",
      "133             133  0.3960    0.0\n",
      "132             132  0.3859    0.0\n",
      "131             131  0.3747    0.0\n",
      "ft_segments_9s.csv\n",
      "     ft_coefficient   pbc_r  p_val\n",
      "151             151  0.4113    0.0\n",
      "150             150  0.4032    0.0\n",
      "149             149  0.3953    0.0\n",
      "148             148  0.3850    0.0\n",
      "147             147  0.3723    0.0\n",
      "ft_segments_10s.csv\n",
      "     ft_coefficient   pbc_r  p_val\n",
      "167             167  0.4100    0.0\n",
      "166             166  0.4005    0.0\n",
      "165             165  0.3927    0.0\n",
      "164             164  0.3843    0.0\n",
      "163             163  0.3710    0.0\n"
     ]
    }
   ],
   "source": [
    "# NOTE: ft_coefficients features start from 0 to match with the dataframe index and simplify operations\n",
    "\n",
    "best_pbc_corrs_by_dataset = dict()\n",
    "\n",
    "for segments_length_seconds in [3,4,5,6,7,8,9,10]:\n",
    "    file = f'ft_segments_{segments_length_seconds}s.csv'; print(file)\n",
    "\n",
    "    dataset = pd.read_csv(f'{data_dir}\\\\{file}')\n",
    "\n",
    "    dataset = dataset[dataset['episode'].isin(['N', 'AFIB'])]\n",
    "    dataset.replace({'N': 0, 'AFIB': 1}, inplace = True)\n",
    "\n",
    "    dataset['segment_fft'] = dataset['segment_fft'].apply(lambda seg_list: eval(seg_list))\n",
    "\n",
    "    for ft_coefficient_iter in range(len(dataset.iloc[0]['segment_fft'])):\n",
    "        dataset[f'ft_coefficient_{ft_coefficient_iter}'] = dataset['segment_fft'].apply(\n",
    "            lambda ft_segment: ft_segment[ft_coefficient_iter]\n",
    "        )\n",
    "\n",
    "    pbc_corrs_list_to_df = list()\n",
    "\n",
    "    for ft_coefficient_iter in range(len(dataset.iloc[0]['segment_fft'])):\n",
    "\n",
    "        pbc_r, p_val = stats.pearsonr(dataset[f'ft_coefficient_{ft_coefficient_iter}'], dataset['episode'])\n",
    "\n",
    "        pbc_corrs_list_to_df.append(dict(\n",
    "                ft_coefficient = ft_coefficient_iter,\n",
    "                pbc_r = round(pbc_r, 4),\n",
    "                p_val = round(p_val, 4),\n",
    "        ))\n",
    "\n",
    "    pbc_df = pd.DataFrame(pbc_corrs_list_to_df)\n",
    "    pbc_df.sort_values(by = 'pbc_r', inplace = True, ascending = False)\n",
    "    print(pbc_df.head())\n",
    "\n",
    "    best_pbc_corrs_by_dataset[segments_length_seconds] = {\n",
    "        ft_coef: pbc_corr_coef\n",
    "        for (ft_coef, pbc_corr_coef) in pbc_df.iloc[:5].to_dict()['pbc_r'].items()\n",
    "    }\n",
    "\n",
    "    pbc_df.to_excel(f'{tables_dir}\\\\afdb_{file.replace(\".csv\",\"\")}_pbc.xlsx', index = False)"
   ],
   "metadata": {
    "collapsed": false,
    "pycharm": {
     "name": "#%%\n"
    }
   }
  },
  {
   "cell_type": "code",
   "execution_count": 8,
   "outputs": [],
   "source": [
    "avg_pbc_corrs_list_to_df = list()\n",
    "\n",
    "for file in os.listdir(tables_dir):\n",
    "    if str(file).startswith('afdb'):\n",
    "\n",
    "        pbc_table_df = pd.read_excel(f'{tables_dir}\\\\{file}')\n",
    "        avg_pbc_corrs_list_to_df.append(dict(\n",
    "                segments_length = file.replace('.xlsx', '').split('_')[-2],\n",
    "                avg_pbc_r = pbc_table_df['pbc_r'].abs().mean()\n",
    "        ))\n",
    "\n",
    "pd.DataFrame(avg_pbc_corrs_list_to_df).to_excel(f'{tables_dir}\\\\afdb_avg_pbc_corrs_per_segment_length.xlsx', index = False)\n",
    "\n",
    "\n"
   ],
   "metadata": {
    "collapsed": false,
    "pycharm": {
     "name": "#%%\n"
    }
   }
  },
  {
   "cell_type": "code",
   "execution_count": null,
   "outputs": [],
   "source": [],
   "metadata": {
    "collapsed": false,
    "pycharm": {
     "name": "#%%\n"
    }
   }
  }
 ],
 "metadata": {
  "kernelspec": {
   "display_name": "Python 3",
   "language": "python",
   "name": "python3"
  },
  "language_info": {
   "codemirror_mode": {
    "name": "ipython",
    "version": 2
   },
   "file_extension": ".py",
   "mimetype": "text/x-python",
   "name": "python",
   "nbconvert_exporter": "python",
   "pygments_lexer": "ipython2",
   "version": "2.7.6"
  }
 },
 "nbformat": 4,
 "nbformat_minor": 0
}