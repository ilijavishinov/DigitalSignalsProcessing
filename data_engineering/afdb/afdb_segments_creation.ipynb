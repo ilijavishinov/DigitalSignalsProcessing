{
 "cells": [
  {
   "cell_type": "markdown",
   "source": [
    "# Clean segments generation"
   ],
   "metadata": {
    "collapsed": false
   }
  },
  {
   "cell_type": "code",
   "execution_count": null,
   "outputs": [],
   "source": [
    "import pandas as pd\n",
    "import os\n",
    "import gc\n",
    "\n",
    "signals_dir = 'data\\physionet_dbs\\\\afdb\\\\uniclass_episode_signals_125hz'\n",
    "write_data_dir = 'data\\physionet_dbs\\\\afdb\\\\clean_segments_training_125hz'\n",
    "if not os.path.exists(write_data_dir):\n",
    "    os.makedirs(write_data_dir)"
   ],
   "metadata": {
    "collapsed": false,
    "pycharm": {
     "name": "#%%\n",
     "is_executing": true
    }
   }
  },
  {
   "cell_type": "code",
   "execution_count": null,
   "outputs": [],
   "source": [
    "HZ = 125\n",
    "SEGMENTS_SECONDS_DIFF = 4\n",
    "\n",
    "# seconds\n",
    "for SEGMENTS_LENGTH_SECONDS in [3,4,5,6,7,8,9,10]:\n",
    "    print(SEGMENTS_LENGTH_SECONDS)\n",
    "\n",
    "    segment_samples_length = HZ * SEGMENTS_LENGTH_SECONDS\n",
    "    segments_dataset_list_to_df = list()\n",
    "\n",
    "    for file in os.listdir(signals_dir):\n",
    "        file = str(file); print(file)\n",
    "\n",
    "\n",
    "        signal_df = pd.read_csv(f'{signals_dir}\\\\{file}')\n",
    "\n",
    "\n",
    "        for signal_row_idx in range(0, signal_df.shape[0], int(SEGMENTS_SECONDS_DIFF * HZ)):\n",
    "\n",
    "            # if no more segments can be created or\n",
    "            # if first iteration and signal is shorter than segment\n",
    "            if signal_row_idx + segment_samples_length > signal_df.shape[0] - 1:\n",
    "                break\n",
    "\n",
    "            segment_df = signal_df.iloc[signal_row_idx : signal_row_idx + segment_samples_length]\n",
    "\n",
    "            segments_dataset_list_to_df.append({\n",
    "                'file': file.split('_')[0],\n",
    "                'start': signal_df.iloc[signal_row_idx]['sample_idx'],\n",
    "                'segment_samples': segment_df['ecg'].to_list(),\n",
    "                'episode': file.split('_')[1],\n",
    "            })\n",
    "\n",
    "        gc.collect()\n",
    "\n",
    "    pd.DataFrame(segments_dataset_list_to_df)\\\n",
    "        .to_csv(f'{write_data_dir}\\\\segments_{SEGMENTS_LENGTH_SECONDS}.csv', index = False)\n",
    "\n",
    "    gc.collect()\n"
   ],
   "metadata": {
    "collapsed": false,
    "pycharm": {
     "name": "#%%\n",
     "is_executing": true
    }
   }
  },
  {
   "cell_type": "code",
   "execution_count": null,
   "outputs": [],
   "source": [
    "                        \n",
    "for x in range(0, 100, 2):\n",
    "    print(x)"
   ],
   "metadata": {
    "collapsed": false,
    "pycharm": {
     "name": "#%%\n",
     "is_executing": true
    }
   }
  },
  {
   "cell_type": "code",
   "execution_count": null,
   "outputs": [],
   "source": [
    "\n",
    "%reset"
   ],
   "metadata": {
    "collapsed": false,
    "pycharm": {
     "name": "#%%\n",
     "is_executing": true
    }
   }
  },
  {
   "cell_type": "code",
   "execution_count": null,
   "outputs": [],
   "source": [],
   "metadata": {
    "collapsed": false,
    "pycharm": {
     "name": "#%%\n",
     "is_executing": true
    }
   }
  }
 ],
 "metadata": {
  "kernelspec": {
   "display_name": "Python 3",
   "language": "python",
   "name": "python3"
  },
  "language_info": {
   "codemirror_mode": {
    "name": "ipython",
    "version": 2
   },
   "file_extension": ".py",
   "mimetype": "text/x-python",
   "name": "python",
   "nbconvert_exporter": "python",
   "pygments_lexer": "ipython2",
   "version": "2.7.6"
  }
 },
 "nbformat": 4,
 "nbformat_minor": 0
}