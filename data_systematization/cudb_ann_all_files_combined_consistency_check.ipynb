{
 "cells": [
  {
   "cell_type": "markdown",
   "source": [
    "The utility in generating a combined file containing all annotation files\n",
    "is to check for the consistency of episode notation"
   ],
   "metadata": {
    "collapsed": false,
    "pycharm": {
     "name": "#%% md\n"
    }
   }
  },
  {
   "cell_type": "code",
   "execution_count": 1,
   "outputs": [
    {
     "name": "stdout",
     "output_type": "stream",
     "text": [
      "cu01\n",
      "cu02\n",
      "cu03\n",
      "cu04\n",
      "cu05\n",
      "cu06\n",
      "cu07\n",
      "cu08\n",
      "cu09\n",
      "cu10\n",
      "cu11\n",
      "cu12\n",
      "cu13\n",
      "cu14\n",
      "cu15\n",
      "cu16\n",
      "cu17\n",
      "cu18\n",
      "cu19\n",
      "cu20\n",
      "cu21\n",
      "cu22\n",
      "cu23\n",
      "cu24\n",
      "cu25\n",
      "cu26\n",
      "cu27\n",
      "cu28\n",
      "cu29\n",
      "cu30\n",
      "cu31\n",
      "cu32\n",
      "cu33\n",
      "cu34\n",
      "cu35\n"
     ]
    }
   ],
   "source": [
    "import os\n",
    "\n",
    "data_dir = 'data\\physionet_dbs\\cudb\\\\annotations_systemized_250hz'\n",
    "write_data_dir = 'combined_annotation_files'\n",
    "if not os.path.exists(write_data_dir):\n",
    "    os.makedirs(write_data_dir)\n",
    "\n",
    "import pandas as pd\n",
    "\n",
    "all_episodes_df = pd.DataFrame()\n",
    "all_files_df = pd.DataFrame()\n",
    "\n",
    "for file in os.listdir(data_dir):\n",
    "    print(file.replace('.csv',''))\n",
    "\n",
    "    dataset = pd.read_csv(f'{data_dir}\\\\{file}')\n",
    "    dataset['file'] = str(file)\n",
    "    dataset['database'] = data_dir.split('\\\\')[-2]\n",
    "\n",
    "    all_files_df = all_files_df.append(dataset)"
   ],
   "metadata": {
    "collapsed": false,
    "pycharm": {
     "name": "#%%\n"
    }
   }
  },
  {
   "cell_type": "code",
   "execution_count": 2,
   "outputs": [],
   "source": [
    "all_files_df.to_csv(f'{write_data_dir}\\\\consistent_cudb_files.csv', index = False)"
   ],
   "metadata": {
    "collapsed": false,
    "pycharm": {
     "name": "#%%\n"
    }
   }
  },
  {
   "cell_type": "code",
   "execution_count": 23,
   "outputs": [
    {
     "name": "stdout",
     "output_type": "stream",
     "text": [
      "cu01\n",
      "cu02\n",
      "cu03\n",
      "cu04\n",
      "cu05\n",
      "cu06\n",
      "cu07\n",
      "cu08\n",
      "cu09\n",
      "cu10\n",
      "cu11\n",
      "cu12\n",
      "cu13\n",
      "cu14\n",
      "cu15\n",
      "cu16\n",
      "cu17\n",
      "cu18\n",
      "cu19\n",
      "cu20\n",
      "cu21\n",
      "cu22\n",
      "cu23\n",
      "cu24\n",
      "cu25\n",
      "cu26\n",
      "cu27\n",
      "cu28\n",
      "cu29\n",
      "cu30\n",
      "cu31\n",
      "cu32\n",
      "cu33\n",
      "cu34\n",
      "cu35\n",
      "ASSERTIONS PASSED; FILES ARE VALID AND CONSISTENT\n"
     ]
    }
   ],
   "source": [
    "import numpy as np\n",
    "\n",
    "for row_idx, row in all_files_df.iterrows():\n",
    "\n",
    "    if row['beat'] == '+':\n",
    "        assert row['episode'] is not None\n",
    "    elif row['beat'] == '~':\n",
    "        assert row['episode'] == 'NOISE'\n",
    "    else:\n",
    "        assert row['episode'] is None or row['episode'] is np.nan\n",
    "\n",
    "for file in os.listdir(data_dir):\n",
    "    print(file.replace('.csv',''))\n",
    "\n",
    "    dataset = pd.read_csv(f'{data_dir}\\\\{file}')\n",
    "    assert dataset.iloc[0]['beat'] == '+'\n",
    "\n",
    "\n",
    "\n",
    "print ('ASSERTIONS PASSED; FILES ARE VALID AND CONSISTENT')"
   ],
   "metadata": {
    "collapsed": false,
    "pycharm": {
     "name": "#%%\n"
    }
   }
  },
  {
   "cell_type": "code",
   "execution_count": 20,
   "outputs": [],
   "source": [],
   "metadata": {
    "collapsed": false,
    "pycharm": {
     "name": "#%%\n"
    }
   }
  },
  {
   "cell_type": "code",
   "execution_count": null,
   "outputs": [],
   "source": [],
   "metadata": {
    "collapsed": false,
    "pycharm": {
     "name": "#%%\n"
    }
   }
  }
 ],
 "metadata": {
  "kernelspec": {
   "display_name": "Python 3",
   "language": "python",
   "name": "python3"
  },
  "language_info": {
   "codemirror_mode": {
    "name": "ipython",
    "version": 2
   },
   "file_extension": ".py",
   "mimetype": "text/x-python",
   "name": "python",
   "nbconvert_exporter": "python",
   "pygments_lexer": "ipython2",
   "version": "2.7.6"
  }
 },
 "nbformat": 4,
 "nbformat_minor": 0
}