{
 "cells": [
  {
   "cell_type": "markdown",
   "source": [
    "The utility in generating a combined file containing all annotation files\n",
    "is to check for the consistency of episode notation"
   ],
   "metadata": {
    "collapsed": false,
    "pycharm": {
     "name": "#%% md\n"
    }
   }
  },
  {
   "cell_type": "code",
   "execution_count": 4,
   "outputs": [
    {
     "name": "stdout",
     "output_type": "stream",
     "text": [
      "04015\n",
      "04043\n",
      "04048\n",
      "04126\n",
      "04746\n",
      "04908\n",
      "04936\n",
      "05091\n",
      "05121\n",
      "05261\n",
      "06426\n",
      "06453\n",
      "06995\n",
      "07162\n",
      "07859\n",
      "07879\n",
      "07910\n",
      "08215\n",
      "08219\n",
      "08378\n",
      "08405\n",
      "08434\n",
      "08455\n"
     ]
    }
   ],
   "source": [
    "import os\n",
    "\n",
    "data_dir = 'data\\physionet_dbs\\\\afdb\\\\annotations_systemized'\n",
    "write_data_dir = 'combined_annotation_files'\n",
    "if not os.path.exists(write_data_dir):\n",
    "    os.makedirs(write_data_dir)\n",
    "\n",
    "import pandas as pd\n",
    "\n",
    "all_episodes_df = pd.DataFrame()\n",
    "all_files_df = pd.DataFrame()\n",
    "\n",
    "for file in os.listdir(data_dir):\n",
    "    print(file.replace('.csv',''))\n",
    "\n",
    "    dataset = pd.read_csv(f'{data_dir}\\\\{file}')\n",
    "    dataset['file'] = str(file)\n",
    "    dataset['database'] = data_dir.split('\\\\')[-2]\n",
    "\n",
    "    all_files_df = all_files_df.append(dataset)"
   ],
   "metadata": {
    "collapsed": false,
    "pycharm": {
     "name": "#%%\n"
    }
   }
  },
  {
   "cell_type": "code",
   "execution_count": 7,
   "outputs": [],
   "source": [
    "all_files_df.to_csv(f'{write_data_dir}\\\\consistent_afdb_files.csv', index = False)"
   ],
   "metadata": {
    "collapsed": false,
    "pycharm": {
     "name": "#%%\n"
    }
   }
  },
  {
   "cell_type": "code",
   "execution_count": 6,
   "outputs": [
    {
     "name": "stdout",
     "output_type": "stream",
     "text": [
      "04015\n",
      "04043\n",
      "04048\n",
      "04126\n",
      "04746\n",
      "04908\n",
      "04936\n",
      "05091\n",
      "05121\n",
      "05261\n",
      "06426\n",
      "06453\n",
      "06995\n",
      "07162\n",
      "07859\n",
      "07879\n",
      "07910\n",
      "08215\n",
      "08219\n",
      "08378\n",
      "08405\n",
      "08434\n",
      "08455\n",
      "ASSERTIONS PASSED; FILES ARE VALID AND CONSISTENT\n"
     ]
    }
   ],
   "source": [
    "import numpy as np\n",
    "\n",
    "for row_idx, row in all_files_df.iterrows():\n",
    "\n",
    "    if row['beat'] == '+':\n",
    "        assert row['episode'] is not None\n",
    "    elif row['beat'] == '~':\n",
    "        assert row['episode'] == 'NOISE'\n",
    "    else:\n",
    "        assert row['episode'] is None or row['episode'] is np.nan\n",
    "\n",
    "for file in os.listdir(data_dir):\n",
    "    print(file.replace('.csv',''))\n",
    "\n",
    "    dataset = pd.read_csv(f'{data_dir}\\\\{file}')\n",
    "    assert dataset.iloc[0]['beat'] == '+'\n",
    "\n",
    "\n",
    "\n",
    "print ('ASSERTIONS PASSED; FILES ARE VALID AND CONSISTENT')"
   ],
   "metadata": {
    "collapsed": false,
    "pycharm": {
     "name": "#%%\n"
    }
   }
  },
  {
   "cell_type": "code",
   "execution_count": 20,
   "outputs": [],
   "source": [],
   "metadata": {
    "collapsed": false,
    "pycharm": {
     "name": "#%%\n"
    }
   }
  },
  {
   "cell_type": "code",
   "execution_count": null,
   "outputs": [],
   "source": [],
   "metadata": {
    "collapsed": false,
    "pycharm": {
     "name": "#%%\n"
    }
   }
  }
 ],
 "metadata": {
  "kernelspec": {
   "display_name": "Python 3",
   "language": "python",
   "name": "python3"
  },
  "language_info": {
   "codemirror_mode": {
    "name": "ipython",
    "version": 2
   },
   "file_extension": ".py",
   "mimetype": "text/x-python",
   "name": "python",
   "nbconvert_exporter": "python",
   "pygments_lexer": "ipython2",
   "version": "2.7.6"
  }
 },
 "nbformat": 4,
 "nbformat_minor": 0
}