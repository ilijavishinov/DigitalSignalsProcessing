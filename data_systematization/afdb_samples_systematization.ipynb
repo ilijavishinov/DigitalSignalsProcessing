{
 "cells": [
  {
   "cell_type": "markdown",
   "source": [
    "# Downsampling\n",
    "\n",
    "The afdb samples and annotations are downsampled to 125hz because of big RAM requirements and longer training times.\n"
   ],
   "metadata": {
    "collapsed": false,
    "pycharm": {
     "name": "#%% md\n"
    }
   }
  },
  {
   "cell_type": "code",
   "execution_count": 2,
   "metadata": {
    "collapsed": true,
    "pycharm": {
     "name": "#%%\n"
    }
   },
   "outputs": [],
   "source": [
    "import os\n",
    "import pandas as pd\n",
    "\n",
    "data_dir = 'data\\physionet_dbs\\\\afdb\\samples_250hz'\n",
    "write_data_dir = 'data\\physionet_dbs\\\\afdb\\samples_125hz'\n",
    "if not os.path.exists(write_data_dir):\n",
    "    os.makedirs(write_data_dir)"
   ]
  },
  {
   "cell_type": "code",
   "execution_count": 3,
   "outputs": [
    {
     "name": "stdout",
     "output_type": "stream",
     "text": [
      "04015.csv\n",
      "04043.csv\n",
      "04048.csv\n",
      "04126.csv\n",
      "04746.csv\n",
      "04908.csv\n",
      "04936.csv\n",
      "05091.csv\n",
      "05121.csv\n",
      "05261.csv\n",
      "06426.csv\n",
      "06453.csv\n",
      "06995.csv\n",
      "07162.csv\n",
      "07859.csv\n",
      "07879.csv\n",
      "07910.csv\n",
      "08215.csv\n",
      "08219.csv\n",
      "08378.csv\n",
      "08405.csv\n",
      "08434.csv\n",
      "08455.csv\n"
     ]
    }
   ],
   "source": [
    "\n",
    "for file in os.listdir(data_dir):\n",
    "    print(file)\n",
    "\n",
    "    samp_file = pd.read_csv(f'{data_dir}\\\\{file}')\n",
    "    samp_file.columns = ['sample_idx', 'ecg', 'ecg2']\n",
    "    samp_file.drop(labels = ['ecg2'], axis = 1, inplace = True)\n",
    "\n",
    "    samp_file = samp_file.iloc[::2].reset_index(drop = True)\n",
    "    samp_file['sample_idx'] = samp_file.index\n",
    "\n",
    "    samp_file.to_csv(f'{write_data_dir}\\\\{file}', index = False)\n"
   ],
   "metadata": {
    "collapsed": false,
    "pycharm": {
     "name": "#%%\n"
    }
   }
  },
  {
   "cell_type": "code",
   "execution_count": 5,
   "outputs": [],
   "source": [
    "\n",
    "%reset"
   ],
   "metadata": {
    "collapsed": false,
    "pycharm": {
     "name": "#%%\n"
    }
   }
  },
  {
   "cell_type": "code",
   "execution_count": null,
   "outputs": [],
   "source": [],
   "metadata": {
    "collapsed": false,
    "pycharm": {
     "name": "#%%\n"
    }
   }
  }
 ],
 "metadata": {
  "kernelspec": {
   "display_name": "Python 3",
   "language": "python",
   "name": "python3"
  },
  "language_info": {
   "codemirror_mode": {
    "name": "ipython",
    "version": 2
   },
   "file_extension": ".py",
   "mimetype": "text/x-python",
   "name": "python",
   "nbconvert_exporter": "python",
   "pygments_lexer": "ipython2",
   "version": "2.7.6"
  }
 },
 "nbformat": 4,
 "nbformat_minor": 0
}