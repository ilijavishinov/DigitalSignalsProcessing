{
 "cells": [
  {
   "cell_type": "markdown",
   "source": [
    "## Generating shell scripts"
   ],
   "metadata": {
    "collapsed": false,
    "pycharm": {
     "name": "#%% md\n"
    }
   }
  },
  {
   "cell_type": "code",
   "execution_count": 54,
   "metadata": {
    "collapsed": true
   },
   "outputs": [],
   "source": [
    "import os\n",
    "import numpy as np\n",
    "import re"
   ]
  },
  {
   "cell_type": "markdown",
   "source": [
    "#### ------------------------------------\n",
    "## afdb samples\n",
    "#### ------------------------------------"
   ],
   "metadata": {
    "collapsed": false
   }
  },
  {
   "cell_type": "code",
   "execution_count": 55,
   "outputs": [
    {
     "name": "stdout",
     "output_type": "stream",
     "text": [
      "rdsamp -r afdb/00735 -v -c > afdb/samples/00735.csv\n",
      "rdsamp -r afdb/03665 -v -c > afdb/samples/03665.csv\n",
      "rdsamp -r afdb/04015 -v -c > afdb/samples/04015.csv\n",
      "rdsamp -r afdb/04043 -v -c > afdb/samples/04043.csv\n",
      "rdsamp -r afdb/04048 -v -c > afdb/samples/04048.csv\n",
      "rdsamp -r afdb/04126 -v -c > afdb/samples/04126.csv\n",
      "rdsamp -r afdb/04746 -v -c > afdb/samples/04746.csv\n",
      "rdsamp -r afdb/04908 -v -c > afdb/samples/04908.csv\n",
      "rdsamp -r afdb/04936 -v -c > afdb/samples/04936.csv\n",
      "rdsamp -r afdb/05091 -v -c > afdb/samples/05091.csv\n",
      "rdsamp -r afdb/05121 -v -c > afdb/samples/05121.csv\n",
      "rdsamp -r afdb/05261 -v -c > afdb/samples/05261.csv\n",
      "rdsamp -r afdb/06426 -v -c > afdb/samples/06426.csv\n",
      "rdsamp -r afdb/06453 -v -c > afdb/samples/06453.csv\n",
      "rdsamp -r afdb/06995 -v -c > afdb/samples/06995.csv\n",
      "rdsamp -r afdb/07162 -v -c > afdb/samples/07162.csv\n",
      "rdsamp -r afdb/07859 -v -c > afdb/samples/07859.csv\n",
      "rdsamp -r afdb/07879 -v -c > afdb/samples/07879.csv\n",
      "rdsamp -r afdb/07910 -v -c > afdb/samples/07910.csv\n",
      "rdsamp -r afdb/08215 -v -c > afdb/samples/08215.csv\n",
      "rdsamp -r afdb/08219 -v -c > afdb/samples/08219.csv\n",
      "rdsamp -r afdb/08378 -v -c > afdb/samples/08378.csv\n",
      "rdsamp -r afdb/08405 -v -c > afdb/samples/08405.csv\n",
      "rdsamp -r afdb/08434 -v -c > afdb/samples/08434.csv\n",
      "rdsamp -r afdb/08455 -v -c > afdb/samples/08455.csv\n"
     ]
    }
   ],
   "source": [
    "afdb_data_dir = 'data\\\\raw_physionet_data\\\\afdb\\\\files'\n",
    "\n",
    "afdb_list_of_patients = list()\n",
    "\n",
    "for file in os.listdir(afdb_data_dir):\n",
    "    if re.match(r'\\d', file):\n",
    "        afdb_list_of_patients.append(file.split('.')[0])\n",
    "\n",
    "\n",
    "for patient_id in np.unique(afdb_list_of_patients):\n",
    "    print(f'rdsamp -r afdb/{patient_id} -v -c > afdb/samples/{patient_id}.csv')"
   ],
   "metadata": {
    "collapsed": false,
    "pycharm": {
     "name": "#%%\n"
    }
   }
  },
  {
   "cell_type": "markdown",
   "source": [
    "#### ------------------------------------\n",
    "## afdb annotations\n",
    "#### ------------------------------------"
   ],
   "metadata": {
    "collapsed": false,
    "pycharm": {
     "name": "#%% md\n"
    }
   }
  },
  {
   "cell_type": "code",
   "execution_count": 56,
   "outputs": [
    {
     "name": "stdout",
     "output_type": "stream",
     "text": [
      "rdann -r afdb/00735 -a atr -v > afdb/annotations/00735.txt\n",
      "rdann -r afdb/03665 -a atr -v > afdb/annotations/03665.txt\n",
      "rdann -r afdb/04015 -a atr -v > afdb/annotations/04015.txt\n",
      "rdann -r afdb/04043 -a atr -v > afdb/annotations/04043.txt\n",
      "rdann -r afdb/04048 -a atr -v > afdb/annotations/04048.txt\n",
      "rdann -r afdb/04126 -a atr -v > afdb/annotations/04126.txt\n",
      "rdann -r afdb/04746 -a atr -v > afdb/annotations/04746.txt\n",
      "rdann -r afdb/04908 -a atr -v > afdb/annotations/04908.txt\n",
      "rdann -r afdb/04936 -a atr -v > afdb/annotations/04936.txt\n",
      "rdann -r afdb/05091 -a atr -v > afdb/annotations/05091.txt\n",
      "rdann -r afdb/05121 -a atr -v > afdb/annotations/05121.txt\n",
      "rdann -r afdb/05261 -a atr -v > afdb/annotations/05261.txt\n",
      "rdann -r afdb/06426 -a atr -v > afdb/annotations/06426.txt\n",
      "rdann -r afdb/06453 -a atr -v > afdb/annotations/06453.txt\n",
      "rdann -r afdb/06995 -a atr -v > afdb/annotations/06995.txt\n",
      "rdann -r afdb/07162 -a atr -v > afdb/annotations/07162.txt\n",
      "rdann -r afdb/07859 -a atr -v > afdb/annotations/07859.txt\n",
      "rdann -r afdb/07879 -a atr -v > afdb/annotations/07879.txt\n",
      "rdann -r afdb/07910 -a atr -v > afdb/annotations/07910.txt\n",
      "rdann -r afdb/08215 -a atr -v > afdb/annotations/08215.txt\n",
      "rdann -r afdb/08219 -a atr -v > afdb/annotations/08219.txt\n",
      "rdann -r afdb/08378 -a atr -v > afdb/annotations/08378.txt\n",
      "rdann -r afdb/08405 -a atr -v > afdb/annotations/08405.txt\n",
      "rdann -r afdb/08434 -a atr -v > afdb/annotations/08434.txt\n",
      "rdann -r afdb/08455 -a atr -v > afdb/annotations/08455.txt\n"
     ]
    }
   ],
   "source": [
    "for patient_id in np.unique(afdb_list_of_patients):\n",
    "    print(f'rdann -r afdb/{patient_id} -a atr -v > afdb/annotations/{patient_id}.txt')"
   ],
   "metadata": {
    "collapsed": false,
    "pycharm": {
     "name": "#%%\n"
    }
   }
  },
  {
   "cell_type": "markdown",
   "source": [
    "#### ------------------------------------\n",
    "## cudb\n",
    "#### ------------------------------------"
   ],
   "metadata": {
    "collapsed": false,
    "pycharm": {
     "name": "#%% md\n"
    }
   }
  },
  {
   "cell_type": "code",
   "execution_count": 57,
   "outputs": [
    {
     "name": "stdout",
     "output_type": "stream",
     "text": [
      "rdsamp -r cudb/cu01 -v -c > cudb/samples/cu01.csv\n",
      "rdsamp -r cudb/cu02 -v -c > cudb/samples/cu02.csv\n",
      "rdsamp -r cudb/cu03 -v -c > cudb/samples/cu03.csv\n",
      "rdsamp -r cudb/cu04 -v -c > cudb/samples/cu04.csv\n",
      "rdsamp -r cudb/cu05 -v -c > cudb/samples/cu05.csv\n",
      "rdsamp -r cudb/cu06 -v -c > cudb/samples/cu06.csv\n",
      "rdsamp -r cudb/cu07 -v -c > cudb/samples/cu07.csv\n",
      "rdsamp -r cudb/cu08 -v -c > cudb/samples/cu08.csv\n",
      "rdsamp -r cudb/cu09 -v -c > cudb/samples/cu09.csv\n",
      "rdsamp -r cudb/cu10 -v -c > cudb/samples/cu10.csv\n",
      "rdsamp -r cudb/cu11 -v -c > cudb/samples/cu11.csv\n",
      "rdsamp -r cudb/cu12 -v -c > cudb/samples/cu12.csv\n",
      "rdsamp -r cudb/cu13 -v -c > cudb/samples/cu13.csv\n",
      "rdsamp -r cudb/cu14 -v -c > cudb/samples/cu14.csv\n",
      "rdsamp -r cudb/cu15 -v -c > cudb/samples/cu15.csv\n",
      "rdsamp -r cudb/cu16 -v -c > cudb/samples/cu16.csv\n",
      "rdsamp -r cudb/cu17 -v -c > cudb/samples/cu17.csv\n",
      "rdsamp -r cudb/cu18 -v -c > cudb/samples/cu18.csv\n",
      "rdsamp -r cudb/cu19 -v -c > cudb/samples/cu19.csv\n",
      "rdsamp -r cudb/cu20 -v -c > cudb/samples/cu20.csv\n",
      "rdsamp -r cudb/cu21 -v -c > cudb/samples/cu21.csv\n",
      "rdsamp -r cudb/cu22 -v -c > cudb/samples/cu22.csv\n",
      "rdsamp -r cudb/cu23 -v -c > cudb/samples/cu23.csv\n",
      "rdsamp -r cudb/cu24 -v -c > cudb/samples/cu24.csv\n",
      "rdsamp -r cudb/cu25 -v -c > cudb/samples/cu25.csv\n",
      "rdsamp -r cudb/cu26 -v -c > cudb/samples/cu26.csv\n",
      "rdsamp -r cudb/cu27 -v -c > cudb/samples/cu27.csv\n",
      "rdsamp -r cudb/cu28 -v -c > cudb/samples/cu28.csv\n",
      "rdsamp -r cudb/cu29 -v -c > cudb/samples/cu29.csv\n",
      "rdsamp -r cudb/cu30 -v -c > cudb/samples/cu30.csv\n",
      "rdsamp -r cudb/cu31 -v -c > cudb/samples/cu31.csv\n",
      "rdsamp -r cudb/cu32 -v -c > cudb/samples/cu32.csv\n",
      "rdsamp -r cudb/cu33 -v -c > cudb/samples/cu33.csv\n",
      "rdsamp -r cudb/cu34 -v -c > cudb/samples/cu34.csv\n",
      "rdsamp -r cudb/cu35 -v -c > cudb/samples/cu35.csv\n"
     ]
    }
   ],
   "source": [
    "cudb_data_dir = 'data\\\\raw_physionet_data\\\\cudb'\n",
    "\n",
    "cudb_list_of_patients = list()\n",
    "\n",
    "for file in os.listdir(cudb_data_dir):\n",
    "    if re.match(r'cu*', file):\n",
    "        cudb_list_of_patients.append(file.split('.')[0])\n",
    "\n",
    "for patient_id in np.unique(cudb_list_of_patients):\n",
    "    print(f'rdsamp -r cudb/{patient_id} -v -c > cudb/samples/{patient_id}.csv')"
   ],
   "metadata": {
    "collapsed": false,
    "pycharm": {
     "name": "#%%\n"
    }
   }
  },
  {
   "cell_type": "markdown",
   "source": [
    "#### ------------------------------------\n",
    "## cudb annotations\n",
    "#### ------------------------------------"
   ],
   "metadata": {
    "collapsed": false
   }
  },
  {
   "cell_type": "code",
   "execution_count": 58,
   "outputs": [
    {
     "name": "stdout",
     "output_type": "stream",
     "text": [
      "rdann -r cudb/cu01 -a atr -v > cudb/annotations/cu01.txt\n",
      "rdann -r cudb/cu02 -a atr -v > cudb/annotations/cu02.txt\n",
      "rdann -r cudb/cu03 -a atr -v > cudb/annotations/cu03.txt\n",
      "rdann -r cudb/cu04 -a atr -v > cudb/annotations/cu04.txt\n",
      "rdann -r cudb/cu05 -a atr -v > cudb/annotations/cu05.txt\n",
      "rdann -r cudb/cu06 -a atr -v > cudb/annotations/cu06.txt\n",
      "rdann -r cudb/cu07 -a atr -v > cudb/annotations/cu07.txt\n",
      "rdann -r cudb/cu08 -a atr -v > cudb/annotations/cu08.txt\n",
      "rdann -r cudb/cu09 -a atr -v > cudb/annotations/cu09.txt\n",
      "rdann -r cudb/cu10 -a atr -v > cudb/annotations/cu10.txt\n",
      "rdann -r cudb/cu11 -a atr -v > cudb/annotations/cu11.txt\n",
      "rdann -r cudb/cu12 -a atr -v > cudb/annotations/cu12.txt\n",
      "rdann -r cudb/cu13 -a atr -v > cudb/annotations/cu13.txt\n",
      "rdann -r cudb/cu14 -a atr -v > cudb/annotations/cu14.txt\n",
      "rdann -r cudb/cu15 -a atr -v > cudb/annotations/cu15.txt\n",
      "rdann -r cudb/cu16 -a atr -v > cudb/annotations/cu16.txt\n",
      "rdann -r cudb/cu17 -a atr -v > cudb/annotations/cu17.txt\n",
      "rdann -r cudb/cu18 -a atr -v > cudb/annotations/cu18.txt\n",
      "rdann -r cudb/cu19 -a atr -v > cudb/annotations/cu19.txt\n",
      "rdann -r cudb/cu20 -a atr -v > cudb/annotations/cu20.txt\n",
      "rdann -r cudb/cu21 -a atr -v > cudb/annotations/cu21.txt\n",
      "rdann -r cudb/cu22 -a atr -v > cudb/annotations/cu22.txt\n",
      "rdann -r cudb/cu23 -a atr -v > cudb/annotations/cu23.txt\n",
      "rdann -r cudb/cu24 -a atr -v > cudb/annotations/cu24.txt\n",
      "rdann -r cudb/cu25 -a atr -v > cudb/annotations/cu25.txt\n",
      "rdann -r cudb/cu26 -a atr -v > cudb/annotations/cu26.txt\n",
      "rdann -r cudb/cu27 -a atr -v > cudb/annotations/cu27.txt\n",
      "rdann -r cudb/cu28 -a atr -v > cudb/annotations/cu28.txt\n",
      "rdann -r cudb/cu29 -a atr -v > cudb/annotations/cu29.txt\n",
      "rdann -r cudb/cu30 -a atr -v > cudb/annotations/cu30.txt\n",
      "rdann -r cudb/cu31 -a atr -v > cudb/annotations/cu31.txt\n",
      "rdann -r cudb/cu32 -a atr -v > cudb/annotations/cu32.txt\n",
      "rdann -r cudb/cu33 -a atr -v > cudb/annotations/cu33.txt\n",
      "rdann -r cudb/cu34 -a atr -v > cudb/annotations/cu34.txt\n",
      "rdann -r cudb/cu35 -a atr -v > cudb/annotations/cu35.txt\n"
     ]
    }
   ],
   "source": [
    "for patient_id in np.unique(cudb_list_of_patients):\n",
    "    print(f'rdann -r cudb/{patient_id} -a atr -v > cudb/annotations/{patient_id}.txt')\n"
   ],
   "metadata": {
    "collapsed": false,
    "pycharm": {
     "name": "#%%\n"
    }
   }
  },
  {
   "cell_type": "markdown",
   "source": [
    "#### ------------------------------------\n",
    "## mitdb\n",
    "#### ------------------------------------"
   ],
   "metadata": {
    "collapsed": false,
    "pycharm": {
     "name": "#%% md\n"
    }
   }
  },
  {
   "cell_type": "code",
   "execution_count": 59,
   "outputs": [
    {
     "name": "stdout",
     "output_type": "stream",
     "text": [
      "rdsamp -r mitdb/100 -v -c > mitdb/samples/100.csv\n",
      "rdsamp -r mitdb/101 -v -c > mitdb/samples/101.csv\n",
      "rdsamp -r mitdb/102 -v -c > mitdb/samples/102.csv\n",
      "rdsamp -r mitdb/102-0 -v -c > mitdb/samples/102-0.csv\n",
      "rdsamp -r mitdb/103 -v -c > mitdb/samples/103.csv\n",
      "rdsamp -r mitdb/104 -v -c > mitdb/samples/104.csv\n",
      "rdsamp -r mitdb/105 -v -c > mitdb/samples/105.csv\n",
      "rdsamp -r mitdb/106 -v -c > mitdb/samples/106.csv\n",
      "rdsamp -r mitdb/107 -v -c > mitdb/samples/107.csv\n",
      "rdsamp -r mitdb/108 -v -c > mitdb/samples/108.csv\n",
      "rdsamp -r mitdb/109 -v -c > mitdb/samples/109.csv\n",
      "rdsamp -r mitdb/111 -v -c > mitdb/samples/111.csv\n",
      "rdsamp -r mitdb/112 -v -c > mitdb/samples/112.csv\n",
      "rdsamp -r mitdb/113 -v -c > mitdb/samples/113.csv\n",
      "rdsamp -r mitdb/114 -v -c > mitdb/samples/114.csv\n",
      "rdsamp -r mitdb/115 -v -c > mitdb/samples/115.csv\n",
      "rdsamp -r mitdb/116 -v -c > mitdb/samples/116.csv\n",
      "rdsamp -r mitdb/117 -v -c > mitdb/samples/117.csv\n",
      "rdsamp -r mitdb/118 -v -c > mitdb/samples/118.csv\n",
      "rdsamp -r mitdb/119 -v -c > mitdb/samples/119.csv\n",
      "rdsamp -r mitdb/121 -v -c > mitdb/samples/121.csv\n",
      "rdsamp -r mitdb/122 -v -c > mitdb/samples/122.csv\n",
      "rdsamp -r mitdb/123 -v -c > mitdb/samples/123.csv\n",
      "rdsamp -r mitdb/124 -v -c > mitdb/samples/124.csv\n",
      "rdsamp -r mitdb/200 -v -c > mitdb/samples/200.csv\n",
      "rdsamp -r mitdb/201 -v -c > mitdb/samples/201.csv\n",
      "rdsamp -r mitdb/202 -v -c > mitdb/samples/202.csv\n",
      "rdsamp -r mitdb/203 -v -c > mitdb/samples/203.csv\n",
      "rdsamp -r mitdb/205 -v -c > mitdb/samples/205.csv\n",
      "rdsamp -r mitdb/207 -v -c > mitdb/samples/207.csv\n",
      "rdsamp -r mitdb/208 -v -c > mitdb/samples/208.csv\n",
      "rdsamp -r mitdb/209 -v -c > mitdb/samples/209.csv\n",
      "rdsamp -r mitdb/210 -v -c > mitdb/samples/210.csv\n",
      "rdsamp -r mitdb/212 -v -c > mitdb/samples/212.csv\n",
      "rdsamp -r mitdb/213 -v -c > mitdb/samples/213.csv\n",
      "rdsamp -r mitdb/214 -v -c > mitdb/samples/214.csv\n",
      "rdsamp -r mitdb/215 -v -c > mitdb/samples/215.csv\n",
      "rdsamp -r mitdb/217 -v -c > mitdb/samples/217.csv\n",
      "rdsamp -r mitdb/219 -v -c > mitdb/samples/219.csv\n",
      "rdsamp -r mitdb/220 -v -c > mitdb/samples/220.csv\n",
      "rdsamp -r mitdb/221 -v -c > mitdb/samples/221.csv\n",
      "rdsamp -r mitdb/222 -v -c > mitdb/samples/222.csv\n",
      "rdsamp -r mitdb/223 -v -c > mitdb/samples/223.csv\n",
      "rdsamp -r mitdb/228 -v -c > mitdb/samples/228.csv\n",
      "rdsamp -r mitdb/230 -v -c > mitdb/samples/230.csv\n",
      "rdsamp -r mitdb/231 -v -c > mitdb/samples/231.csv\n",
      "rdsamp -r mitdb/232 -v -c > mitdb/samples/232.csv\n",
      "rdsamp -r mitdb/233 -v -c > mitdb/samples/233.csv\n",
      "rdsamp -r mitdb/234 -v -c > mitdb/samples/234.csv\n"
     ]
    }
   ],
   "source": [
    "mitdb_data_dir = 'data\\\\raw_physionet_data\\\\mitdb\\mit-bih-arrhythmia-database-1.0.0'\n",
    "\n",
    "mitdb_list_of_patients = list()\n",
    "\n",
    "for file in os.listdir(mitdb_data_dir):\n",
    "    if re.match(r'\\d', file):\n",
    "        mitdb_list_of_patients.append(file.split('.')[0])\n",
    "\n",
    "for patient_id in np.unique(mitdb_list_of_patients):\n",
    "    print(f'rdsamp -r mitdb/{patient_id} -v -c > mitdb/samples/{patient_id}.csv')"
   ],
   "metadata": {
    "collapsed": false,
    "pycharm": {
     "name": "#%%\n"
    }
   }
  },
  {
   "cell_type": "markdown",
   "source": [
    "#### ------------------------------------\n",
    "## mitdb annotations\n",
    "#### ------------------------------------"
   ],
   "metadata": {
    "collapsed": false
   }
  },
  {
   "cell_type": "code",
   "execution_count": 60,
   "outputs": [
    {
     "name": "stdout",
     "output_type": "stream",
     "text": [
      "rdann -r mitdb/100 -a atr -v > mitdb/annotations/100.txt\n",
      "rdann -r mitdb/101 -a atr -v > mitdb/annotations/101.txt\n",
      "rdann -r mitdb/102 -a atr -v > mitdb/annotations/102.txt\n",
      "rdann -r mitdb/102-0 -a atr -v > mitdb/annotations/102-0.txt\n",
      "rdann -r mitdb/103 -a atr -v > mitdb/annotations/103.txt\n",
      "rdann -r mitdb/104 -a atr -v > mitdb/annotations/104.txt\n",
      "rdann -r mitdb/105 -a atr -v > mitdb/annotations/105.txt\n",
      "rdann -r mitdb/106 -a atr -v > mitdb/annotations/106.txt\n",
      "rdann -r mitdb/107 -a atr -v > mitdb/annotations/107.txt\n",
      "rdann -r mitdb/108 -a atr -v > mitdb/annotations/108.txt\n",
      "rdann -r mitdb/109 -a atr -v > mitdb/annotations/109.txt\n",
      "rdann -r mitdb/111 -a atr -v > mitdb/annotations/111.txt\n",
      "rdann -r mitdb/112 -a atr -v > mitdb/annotations/112.txt\n",
      "rdann -r mitdb/113 -a atr -v > mitdb/annotations/113.txt\n",
      "rdann -r mitdb/114 -a atr -v > mitdb/annotations/114.txt\n",
      "rdann -r mitdb/115 -a atr -v > mitdb/annotations/115.txt\n",
      "rdann -r mitdb/116 -a atr -v > mitdb/annotations/116.txt\n",
      "rdann -r mitdb/117 -a atr -v > mitdb/annotations/117.txt\n",
      "rdann -r mitdb/118 -a atr -v > mitdb/annotations/118.txt\n",
      "rdann -r mitdb/119 -a atr -v > mitdb/annotations/119.txt\n",
      "rdann -r mitdb/121 -a atr -v > mitdb/annotations/121.txt\n",
      "rdann -r mitdb/122 -a atr -v > mitdb/annotations/122.txt\n",
      "rdann -r mitdb/123 -a atr -v > mitdb/annotations/123.txt\n",
      "rdann -r mitdb/124 -a atr -v > mitdb/annotations/124.txt\n",
      "rdann -r mitdb/200 -a atr -v > mitdb/annotations/200.txt\n",
      "rdann -r mitdb/201 -a atr -v > mitdb/annotations/201.txt\n",
      "rdann -r mitdb/202 -a atr -v > mitdb/annotations/202.txt\n",
      "rdann -r mitdb/203 -a atr -v > mitdb/annotations/203.txt\n",
      "rdann -r mitdb/205 -a atr -v > mitdb/annotations/205.txt\n",
      "rdann -r mitdb/207 -a atr -v > mitdb/annotations/207.txt\n",
      "rdann -r mitdb/208 -a atr -v > mitdb/annotations/208.txt\n",
      "rdann -r mitdb/209 -a atr -v > mitdb/annotations/209.txt\n",
      "rdann -r mitdb/210 -a atr -v > mitdb/annotations/210.txt\n",
      "rdann -r mitdb/212 -a atr -v > mitdb/annotations/212.txt\n",
      "rdann -r mitdb/213 -a atr -v > mitdb/annotations/213.txt\n",
      "rdann -r mitdb/214 -a atr -v > mitdb/annotations/214.txt\n",
      "rdann -r mitdb/215 -a atr -v > mitdb/annotations/215.txt\n",
      "rdann -r mitdb/217 -a atr -v > mitdb/annotations/217.txt\n",
      "rdann -r mitdb/219 -a atr -v > mitdb/annotations/219.txt\n",
      "rdann -r mitdb/220 -a atr -v > mitdb/annotations/220.txt\n",
      "rdann -r mitdb/221 -a atr -v > mitdb/annotations/221.txt\n",
      "rdann -r mitdb/222 -a atr -v > mitdb/annotations/222.txt\n",
      "rdann -r mitdb/223 -a atr -v > mitdb/annotations/223.txt\n",
      "rdann -r mitdb/228 -a atr -v > mitdb/annotations/228.txt\n",
      "rdann -r mitdb/230 -a atr -v > mitdb/annotations/230.txt\n",
      "rdann -r mitdb/231 -a atr -v > mitdb/annotations/231.txt\n",
      "rdann -r mitdb/232 -a atr -v > mitdb/annotations/232.txt\n",
      "rdann -r mitdb/233 -a atr -v > mitdb/annotations/233.txt\n",
      "rdann -r mitdb/234 -a atr -v > mitdb/annotations/234.txt\n"
     ]
    }
   ],
   "source": [
    "for patient_id in np.unique(mitdb_list_of_patients):\n",
    "    print(f'rdann -r mitdb/{patient_id} -a atr -v > mitdb/annotations/{patient_id}.txt')"
   ],
   "metadata": {
    "collapsed": false,
    "pycharm": {
     "name": "#%%\n"
    }
   }
  },
  {
   "cell_type": "code",
   "execution_count": 60,
   "outputs": [],
   "source": [],
   "metadata": {
    "collapsed": false,
    "pycharm": {
     "name": "#%%\n"
    }
   }
  },
  {
   "cell_type": "code",
   "execution_count": null,
   "outputs": [],
   "source": [],
   "metadata": {
    "collapsed": false,
    "pycharm": {
     "name": "#%%\n"
    }
   }
  }
 ],
 "metadata": {
  "kernelspec": {
   "display_name": "Python 3",
   "language": "python",
   "name": "python3"
  },
  "language_info": {
   "codemirror_mode": {
    "name": "ipython",
    "version": 2
   },
   "file_extension": ".py",
   "mimetype": "text/x-python",
   "name": "python",
   "nbconvert_exporter": "python",
   "pygments_lexer": "ipython2",
   "version": "2.7.6"
  }
 },
 "nbformat": 4,
 "nbformat_minor": 0
}