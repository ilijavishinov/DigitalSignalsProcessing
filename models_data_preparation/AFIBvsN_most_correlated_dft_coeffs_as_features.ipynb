{
 "cells": [
  {
   "cell_type": "code",
   "execution_count": 4,
   "outputs": [],
   "source": [
    "import pandas as pd\n",
    "from scipy import stats\n",
    "import sklearn\n",
    "import imblearn\n",
    "import os\n",
    "\n",
    "train_data_dir = 'data\\physionet_dbs\\\\afdb\\clean_segments_training_dft_125hz'\n",
    "test_data_dir = 'data\\physionet_dbs\\\\afdb\\clean_segments_testing_dft_125hz'\n",
    "write_data_dir = 'data\\models_data\\\\afdb\\DS2'\n",
    "if not os.path.exists(write_data_dir):\n",
    "    os.makedirs(write_data_dir)"
   ],
   "metadata": {
    "collapsed": false,
    "pycharm": {
     "name": "#%%\n"
    }
   }
  },
  {
   "cell_type": "code",
   "execution_count": 5,
   "outputs": [],
   "source": [
    "def undersampling_dict_generation(y_):\n",
    "\n",
    "    class_feature = pd.Series(y_)\n",
    "    return {\n",
    "        class_label: class_feature.value_counts().min()\n",
    "        for class_label in list(class_feature.value_counts().to_dict().keys())\n",
    "    }"
   ],
   "metadata": {
    "collapsed": false,
    "pycharm": {
     "name": "#%%\n"
    }
   }
  },
  {
   "cell_type": "code",
   "execution_count": 7,
   "outputs": [
    {
     "name": "stdout",
     "output_type": "stream",
     "text": [
      "ft_segments_3s.csv\n",
      "ft_segments_4s.csv\n",
      "ft_segments_5s.csv\n",
      "ft_segments_6s.csv\n",
      "ft_segments_7s.csv\n",
      "ft_segments_8s.csv\n",
      "ft_segments_9s.csv\n",
      "ft_segments_10s.csv\n"
     ]
    }
   ],
   "source": [
    "\n",
    "for segments_length_seconds in [3,4,5,6,7,8,9,10]:\n",
    "    file = f'ft_segments_{segments_length_seconds}s.csv'; print(file)\n",
    "\n",
    "    train_dataset = pd.read_csv(f'{train_data_dir}\\\\{file}')\n",
    "    test_dataset = pd.read_csv(f'{test_data_dir}\\\\{file}')\n",
    "\n",
    "    train_dataset = train_dataset[train_dataset['episode'].isin(['N', 'AFIB'])]\n",
    "    test_dataset = test_dataset[test_dataset['episode'].isin(['N', 'AFIB'])]\n",
    "    train_dataset.replace({'N': 0, 'AFIB': 1}, inplace = True)\n",
    "    test_dataset.replace({'N': 0, 'AFIB': 1}, inplace = True)\n",
    "\n",
    "    train_dataset['segment_fft'] = train_dataset['segment_fft'].apply(lambda seg_list: eval(seg_list))\n",
    "    test_dataset['segment_fft'] = test_dataset['segment_fft'].apply(lambda seg_list: eval(seg_list))\n",
    "\n",
    "    for dft_coefficient_iter in range(len(train_dataset.iloc[0]['segment_fft'])):\n",
    "        train_dataset[f'dft_coefficient_{dft_coefficient_iter}'] = train_dataset['segment_fft'].apply(\n",
    "            lambda ft_segment: ft_segment[dft_coefficient_iter]\n",
    "        )\n",
    "    for dft_coefficient_iter in range(len(test_dataset.iloc[0]['segment_fft'])):\n",
    "        test_dataset[f'dft_coefficient_{dft_coefficient_iter}'] = test_dataset['segment_fft'].apply(\n",
    "            lambda ft_segment: ft_segment[dft_coefficient_iter]\n",
    "        )\n",
    "\n",
    "    train_dataset.drop(labels = ['segment_fft'], axis = 1, inplace = True)\n",
    "    test_dataset.drop(labels = ['segment_fft'], axis = 1, inplace = True)\n",
    "\n",
    "    selected_features = ['episode']\n",
    "\n",
    "    for dft_coefficient_feature_iter in train_dataset.columns:\n",
    "        if dft_coefficient_feature_iter == 'episode': continue # not a dft coefficient\n",
    "\n",
    "        pbc_r, p_val = stats.pearsonr(train_dataset[dft_coefficient_feature_iter], train_dataset['episode'])\n",
    "        if abs(pbc_r) >= 0.1:\n",
    "            selected_features.append(dft_coefficient_feature_iter)\n",
    "\n",
    "    # select only dft coefficients with pbc correlations larger than 0.1\n",
    "    train_dataset = train_dataset[selected_features]\n",
    "    test_dataset = test_dataset[selected_features]\n",
    "\n",
    "    # knn undersampler did not accept dictionary as sampling_strategy even though\n",
    "    # in the docs it was said it does, thus opting for random undersampling for initial models\n",
    "    random_undersampler = imblearn.under_sampling.RandomUnderSampler(\n",
    "            sampling_strategy = undersampling_dict_generation\n",
    "    )\n",
    "\n",
    "    y_train = train_dataset.pop('episode')\n",
    "    X_train = train_dataset\n",
    "\n",
    "    y_test = test_dataset.pop('episode')\n",
    "    X_test = test_dataset\n",
    "\n",
    "    X_train, y_train = random_undersampler.fit_resample(X_train,y_train)\n",
    "    X_test, y_test = random_undersampler.fit_resample(X_test,y_test)\n",
    "\n",
    "    standard_scaler = sklearn.preprocessing.StandardScaler()\n",
    "\n",
    "    X_train = pd.DataFrame(standard_scaler.fit_transform(X_train), columns = X_train.columns)\n",
    "    X_test = pd.DataFrame(standard_scaler.transform(X_test), columns = X_test.columns)\n",
    "\n",
    "    X_train['episode'] = y_train.reset_index(drop = True)\n",
    "    X_test['episode'] = y_test.reset_index(drop = True)\n",
    "\n",
    "    train = X_train\n",
    "    test = X_test\n",
    "\n",
    "    train.to_csv(f'{write_data_dir}\\\\segments_{segments_length_seconds}s_train.csv', index = False)\n",
    "    test.to_csv(f'{write_data_dir}\\\\segments_{segments_length_seconds}s_test.csv', index = False)\n"
   ],
   "metadata": {
    "collapsed": false,
    "pycharm": {
     "name": "#%%\n"
    }
   }
  },
  {
   "cell_type": "code",
   "execution_count": null,
   "outputs": [],
   "source": [],
   "metadata": {
    "collapsed": false,
    "pycharm": {
     "name": "#%%\n"
    }
   }
  }
 ],
 "metadata": {
  "kernelspec": {
   "display_name": "Python 3",
   "language": "python",
   "name": "python3"
  },
  "language_info": {
   "codemirror_mode": {
    "name": "ipython",
    "version": 2
   },
   "file_extension": ".py",
   "mimetype": "text/x-python",
   "name": "python",
   "nbconvert_exporter": "python",
   "pygments_lexer": "ipython2",
   "version": "2.7.6"
  }
 },
 "nbformat": 4,
 "nbformat_minor": 0
}