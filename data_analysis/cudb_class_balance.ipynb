{
 "cells": [
  {
   "cell_type": "code",
   "execution_count": 3,
   "metadata": {
    "collapsed": true
   },
   "outputs": [],
   "source": [
    "import pandas as pd\n",
    "import os\n",
    "\n",
    "data_dir = 'data\\physionet_dbs\\\\afdb\\clean_segments_training_dft_125hz'\n",
    "write_dir = 'class_balance'\n",
    "if not os.path.exists(write_dir):\n",
    "    os.makedirs(write_dir)"
   ]
  },
  {
   "cell_type": "code",
   "execution_count": 4,
   "outputs": [],
   "source": [
    "episode_counts_list_to_df = list()\n",
    "\n",
    "for file in os.listdir(data_dir):\n",
    "    file = str(file)\n",
    "\n",
    "    dataset = pd.read_csv(f'{data_dir}/{file}')\n",
    "    episode_counts_list_to_df.append(dict(\n",
    "      segments_length = file.split('_')[2],\n",
    "      **dataset['episode'].value_counts().to_dict()\n",
    "    ))"
   ],
   "metadata": {
    "collapsed": false,
    "pycharm": {
     "name": "#%%\n"
    }
   }
  },
  {
   "cell_type": "code",
   "execution_count": 6,
   "outputs": [],
   "source": [
    "pd.DataFrame(episode_counts_list_to_df).to_excel(f'{write_dir}\\\\afdb_episode_counts_training.xlsx', index = False)"
   ],
   "metadata": {
    "collapsed": false,
    "pycharm": {
     "name": "#%%\n"
    }
   }
  },
  {
   "cell_type": "code",
   "execution_count": 7,
   "outputs": [],
   "source": [
    "data_dir = 'data\\physionet_dbs\\\\afdb\\clean_segments_testing_dft_125hz'"
   ],
   "metadata": {
    "collapsed": false,
    "pycharm": {
     "name": "#%%\n"
    }
   }
  },
  {
   "cell_type": "code",
   "execution_count": 8,
   "outputs": [],
   "source": [
    "episode_counts_list_to_df = list()\n",
    "\n",
    "for file in os.listdir(data_dir):\n",
    "    file = str(file)\n",
    "\n",
    "    dataset = pd.read_csv(f'{data_dir}/{file}')\n",
    "    episode_counts_list_to_df.append(dict(\n",
    "      segments_length = file.split('_')[2],\n",
    "      **dataset['episode'].value_counts().to_dict()\n",
    "    ))"
   ],
   "metadata": {
    "collapsed": false,
    "pycharm": {
     "name": "#%%\n"
    }
   }
  },
  {
   "cell_type": "code",
   "execution_count": 9,
   "outputs": [],
   "source": [
    "pd.DataFrame(episode_counts_list_to_df).to_excel(f'{write_dir}\\\\afdb_episode_counts_testing.xlsx', index = False)"
   ],
   "metadata": {
    "collapsed": false,
    "pycharm": {
     "name": "#%%\n"
    }
   }
  },
  {
   "cell_type": "code",
   "execution_count": null,
   "outputs": [],
   "source": [],
   "metadata": {
    "collapsed": false,
    "pycharm": {
     "name": "#%%\n"
    }
   }
  }
 ],
 "metadata": {
  "kernelspec": {
   "display_name": "Python 3",
   "language": "python",
   "name": "python3"
  },
  "language_info": {
   "codemirror_mode": {
    "name": "ipython",
    "version": 2
   },
   "file_extension": ".py",
   "mimetype": "text/x-python",
   "name": "python",
   "nbconvert_exporter": "python",
   "pygments_lexer": "ipython2",
   "version": "2.7.6"
  }
 },
 "nbformat": 4,
 "nbformat_minor": 0
}